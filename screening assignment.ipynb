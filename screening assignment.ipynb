{
 "cells": [
  {
   "cell_type": "markdown",
   "id": "dd82aa5f",
   "metadata": {},
   "source": [
    "# Scrrening Assignment"
   ]
  },
  {
   "cell_type": "code",
   "execution_count": 4,
   "id": "c19d7325",
   "metadata": {},
   "outputs": [
    {
     "name": "stdout",
     "output_type": "stream",
     "text": [
      "True\n",
      "True\n"
     ]
    }
   ],
   "source": [
    "## Demonstrate using abstarct class\n",
    "class parent:      \n",
    "    def somay(me):\n",
    "        pass\n",
    "class son(parent):\n",
    "    def somay(me):\n",
    "        print(\"son class\")\n",
    " \n",
    "# Driver code\n",
    "print( issubclass(son, parent))\n",
    "print( isinstance(son(), parent))"
   ]
  },
  {
   "cell_type": "code",
   "execution_count": 1,
   "id": "da561126",
   "metadata": {},
   "outputs": [
    {
     "name": "stdout",
     "output_type": "stream",
     "text": [
      "It is orignal conetent in file --  This is a placement assignment\n",
      "Enter text to be replaced:placement\n",
      "Enter replacement textscreening\n",
      "This is a screening assignment"
     ]
    }
   ],
   "source": [
    "## This is file conetnt replace code\n",
    "import sys\n",
    "import fileinput\n",
    "\n",
    "with open('somay.txt') as f:\n",
    "    contents = f.read()\n",
    "    print(\"It is orignal conetent in file -- \",contents)\n",
    "    \n",
    "    \n",
    "x = input(\"Enter text to be replaced:\")\n",
    "y = input(\"Enter replacement text\")\n",
    "\n",
    "\n",
    "for l in fileinput.input(files = \"Somay.txt\"):\n",
    "    l = l.replace(x, y)\n",
    "    sys.stdout.write(l)"
   ]
  },
  {
   "cell_type": "code",
   "execution_count": 5,
   "id": "ff4a67e1",
   "metadata": {},
   "outputs": [
    {
     "name": "stdout",
     "output_type": "stream",
     "text": [
      "In Class2\n"
     ]
    }
   ],
   "source": [
    "## Demonstrate using multiple inhertiance\n",
    "\n",
    "class Class1:\n",
    "    def m(me):\n",
    "        print(\"In Class1\")\n",
    "        \n",
    "class Class2(Class1):\n",
    "    def m(me):\n",
    "        print(\"In Class2\")\n",
    "        \n",
    "class Class3(Class1):\n",
    "    def m(me):\n",
    "        print(\"In Class3\") \n",
    "        \n",
    "class Class4(Class2, Class3):\n",
    "    pass  \n",
    "     \n",
    "obj = Class4()\n",
    "obj.m()"
   ]
  },
  {
   "cell_type": "code",
   "execution_count": null,
   "id": "01fb3771",
   "metadata": {},
   "outputs": [],
   "source": [
    "## Demostrate using decrorators\n",
    "\n",
    "def create_adder(x):\n",
    "    def adder(y):\n",
    "        return x+y\n",
    " \n",
    "    return adder\n",
    " \n",
    "add_15 = create_adder(15)\n",
    " \n",
    "print(add_15(10))"
   ]
  }
 ],
 "metadata": {
  "kernelspec": {
   "display_name": "Python 3",
   "language": "python",
   "name": "python3"
  },
  "language_info": {
   "codemirror_mode": {
    "name": "ipython",
    "version": 3
   },
   "file_extension": ".py",
   "mimetype": "text/x-python",
   "name": "python",
   "nbconvert_exporter": "python",
   "pygments_lexer": "ipython3",
   "version": "3.8.8"
  }
 },
 "nbformat": 4,
 "nbformat_minor": 5
}
